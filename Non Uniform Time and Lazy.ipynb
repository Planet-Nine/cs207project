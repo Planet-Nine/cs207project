{
 "cells": [
  {
   "cell_type": "code",
   "execution_count": 117,
   "metadata": {
    "collapsed": false
   },
   "outputs": [],
   "source": [
    "# %%file timeseries.py\n",
    "import numpy as np\n",
    "class TimeSeries(): \n",
    "    \"\"\"\n",
    "    An class that takes a sequence of integers or floats as input\n",
    "    \n",
    "    Parameters\n",
    "    ----------\n",
    "    data : any finite numeric sequence\n",
    "   \n",
    "    Returns\n",
    "    -------\n",
    "    len(TimeSeries): int\n",
    "        an integer representing the length of the time series\n",
    "    Timeseries[position:int]: number\n",
    "        returns the value of the TimeSeries at position\n",
    "    Timeseries[position:int] = value:int/float\n",
    "        set value of TimeSeries at position to be value\n",
    "    __str__ / __repr__:\n",
    "        when printing TimeSeries, if the total length of the Timeseries is greater than 10\n",
    "        the result shows the first ten elements and its total length, else it prints the \n",
    "        whole Timeseries\n",
    "        \n",
    "    Examples\n",
    "    --------\n",
    "    >>> a = TimeSeries([0,5,10], [1,2,3])\n",
    "    >>> threes = TimeSeries(range(100),range(100))\n",
    "    >>> len(a)\n",
    "    3\n",
    "    >>> a[10]\n",
    "    3\n",
    "    >>> a[10]=10\n",
    "    >>> a[10]\n",
    "    10\n",
    "    >>> print(a)\n",
    "    [(0, 1), (5, 2), (10, 10)]\n",
    "    >>> print(threes)\n",
    "    [(1, 1), (2, 2), (3, 3), (4, 4), (5, 5), (6, 6), (7, 7), (8, 8), (9, 9)...,length=100]\n",
    "    >>> [v for v in TimeSeries([0,1,2],[1,3,5])]\n",
    "    [1, 3, 5]\n",
    "    >>> a = TimeSeries([0,5,10], [1,2,3])\n",
    "    >>> b = TimeSeries([2.5,7.5], [100, -100])\n",
    "    >>> print(a.interpolate([1])) \n",
    "    [(1, 1.2)]\n",
    "    >>> print(a.interpolate(b.times()))\n",
    "    [(2.5, 1.5), (7.5, 2.5)]\n",
    "    >>> print(a.interpolate([-100,100]))\n",
    "    [(-100, 1.0), (100, 3.0)]\n",
    "    Notes\n",
    "    -----\n",
    "    PRE: `data` is numeric\n",
    "    \n",
    "    \"\"\"\n",
    "    def __init__(self,time,data):\n",
    "        if len(time)!=len(data):\n",
    "            raise \"Not the same length\"\n",
    "        self.data=np.array(data)\n",
    "        self.time=np.array(time)\n",
    "        self.index=0\n",
    "        self.len=len(time)\n",
    "        \n",
    "    def __len__(self):\n",
    "        return len(self.data)\n",
    "    def __getitem__(self, time):\n",
    "        if time in self.time:\n",
    "            return int(self.data[np.where(self.time==time)])\n",
    "        raise \"Time does not exist\"\n",
    "    def __setitem__(self,time,value):\n",
    "        if time not in self.time:\n",
    "             raise \"Time does not exist\"\n",
    "        self.data[np.where(self.time==time)]=value\n",
    "    def __contains__(self, time):\n",
    "        return time in self.time\n",
    "    def __next__(self): \n",
    "        try:\n",
    "            word = self.data[self.index] \n",
    "        except IndexError:\n",
    "            raise StopIteration() \n",
    "        self.index += 1\n",
    "        return word \n",
    "    def __iter__(self):\n",
    "        return self\n",
    "    def __str__(self):\n",
    "        if self.len>10:\n",
    "            return '[{}...,length={}]'.format(str(list(zip(self.time,self.data))[1:10])[1:-1], self.len)\n",
    "        return '{}'.format(list(zip(self.time,self.data)))\n",
    "    def __repr__(self):\n",
    "        if self.len>10:\n",
    "            return '[{}...,length={}]'.format(str(list(zip(self.time,self.data))[1:10])[1:-1], self.len)\n",
    "        return '{}'.format(list(zip(self.time,self.data)))\n",
    "    def values(self):\n",
    "        return list(self.data)\n",
    "    def times(self):\n",
    "        return list(self.time)\n",
    "    def items(self):\n",
    "        return list(zip(self.time,self.data))\n",
    "    def interpolate(self,newtime):\n",
    "        newvalue=np.interp(newtime,self.time,self.data)\n",
    "        return TimeSeries(newtime,newvalue)\n",
    "        "
   ]
  },
  {
   "cell_type": "code",
   "execution_count": 118,
   "metadata": {
    "collapsed": false,
    "scrolled": false
   },
   "outputs": [
    {
     "name": "stdout",
     "output_type": "stream",
     "text": [
      "Finding tests in NoName\n",
      "Trying:\n",
      "    a = TimeSeries([0,5,10], [1,2,3])\n",
      "Expecting nothing\n",
      "ok\n",
      "Trying:\n",
      "    threes = TimeSeries(range(100),range(100))\n",
      "Expecting nothing\n",
      "ok\n",
      "Trying:\n",
      "    len(a)\n",
      "Expecting:\n",
      "    3\n",
      "ok\n",
      "Trying:\n",
      "    a[10]\n",
      "Expecting:\n",
      "    3\n",
      "ok\n",
      "Trying:\n",
      "    a[10]=10\n",
      "Expecting nothing\n",
      "ok\n",
      "Trying:\n",
      "    a[10]\n",
      "Expecting:\n",
      "    10\n",
      "ok\n",
      "Trying:\n",
      "    print(a)\n",
      "Expecting:\n",
      "    [(0, 1), (5, 2), (10, 10)]\n",
      "ok\n",
      "Trying:\n",
      "    print(threes)\n",
      "Expecting:\n",
      "    [(1, 1), (2, 2), (3, 3), (4, 4), (5, 5), (6, 6), (7, 7), (8, 8), (9, 9)...,length=100]\n",
      "ok\n",
      "Trying:\n",
      "    [v for v in TimeSeries([0,1,2],[1,3,5])]\n",
      "Expecting:\n",
      "    [1, 3, 5]\n",
      "ok\n",
      "Trying:\n",
      "    a = TimeSeries([0,5,10], [1,2,3])\n",
      "Expecting nothing\n",
      "ok\n",
      "Trying:\n",
      "    b = TimeSeries([2.5,7.5], [100, -100])\n",
      "Expecting nothing\n",
      "ok\n",
      "Trying:\n",
      "    print(a.interpolate([1])) \n",
      "Expecting:\n",
      "    [(1, 1.2)]\n",
      "ok\n",
      "Trying:\n",
      "    print(a.interpolate(b.times()))\n",
      "Expecting:\n",
      "    [(2.5, 1.5), (7.5, 2.5)]\n",
      "ok\n",
      "Trying:\n",
      "    print(a.interpolate([-100,100]))\n",
      "Expecting:\n",
      "    [(-100, 1.0), (100, 3.0)]\n",
      "    Notes\n",
      "    -----\n",
      "    PRE: `data` is numeric\n",
      "**********************************************************************\n",
      "File \"__main__\", line ?, in NoName\n",
      "Failed example:\n",
      "    print(a.interpolate([-100,100]))\n",
      "Expected:\n",
      "    [(-100, 1.0), (100, 3.0)]\n",
      "    Notes\n",
      "    -----\n",
      "    PRE: `data` is numeric\n",
      "Got:\n",
      "    [(-100, 1.0), (100, 3.0)]\n"
     ]
    }
   ],
   "source": [
    "# from timeseries import TimeSeries\n",
    "from pydoc import doc as pydoc\n",
    "from doctest import run_docstring_examples as dtest\n",
    "dtest(TimeSeries, globals(), verbose=True)"
   ]
  },
  {
   "cell_type": "code",
   "execution_count": 94,
   "metadata": {
    "collapsed": false
   },
   "outputs": [
    {
     "name": "stdout",
     "output_type": "stream",
     "text": [
      "[(1, 1), (2, 2), (3, 3), (4, 4), (5, 5), (6, 6), (7, 7), (8, 8), (9, 9)...,length=100]\n"
     ]
    }
   ],
   "source": [
    "threes = TimeSeries(range(100),range(100))\n",
    "print(threes)"
   ]
  },
  {
   "cell_type": "code",
   "execution_count": 105,
   "metadata": {
    "collapsed": false
   },
   "outputs": [
    {
     "data": {
      "text/plain": [
       "[1, 3, 5]"
      ]
     },
     "execution_count": 105,
     "metadata": {},
     "output_type": "execute_result"
    }
   ],
   "source": [
    "[v for v in TimeSeries([0,1,2],[1,3,5])]"
   ]
  },
  {
   "cell_type": "code",
   "execution_count": 112,
   "metadata": {
    "collapsed": false
   },
   "outputs": [
    {
     "name": "stdout",
     "output_type": "stream",
     "text": [
      "[(1, 1.2)]\n",
      "[(2.5, 1.5), (7.5, 2.5)]\n",
      "[(-100, 1.0), (100, 3.0)]\n"
     ]
    }
   ],
   "source": [
    "a = TimeSeries([0,5,10], [1,2,3])\n",
    "b = TimeSeries([2.5,7.5], [100, -100])\n",
    "# Simple cases\n",
    "print(a.interpolate([1])) # == TimeSeries([1],[1.2])\n",
    "print(a.interpolate(b.times())) # == TimeSeries([2.5,7.5], [1.5, 2.5])\n",
    "# Boundary conditions\n",
    "print(a.interpolate([-100,100]) )# == TimeSeries([-100,100],[1,3])"
   ]
  }
 ],
 "metadata": {
  "kernelspec": {
   "display_name": "Python 3",
   "language": "python",
   "name": "python3"
  },
  "language_info": {
   "codemirror_mode": {
    "name": "ipython",
    "version": 3
   },
   "file_extension": ".py",
   "mimetype": "text/x-python",
   "name": "python",
   "nbconvert_exporter": "python",
   "pygments_lexer": "ipython3",
   "version": "3.5.1"
  }
 },
 "nbformat": 4,
 "nbformat_minor": 0
}
