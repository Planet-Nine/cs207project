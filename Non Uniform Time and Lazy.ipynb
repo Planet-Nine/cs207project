{
 "cells": [
  {
   "cell_type": "code",
   "execution_count": 1,
   "metadata": {
    "collapsed": false
   },
   "outputs": [
    {
     "name": "stdout",
     "output_type": "stream",
     "text": [
      "Overwriting timeseries.py\n"
     ]
    }
   ],
   "source": [
    "%%file timeseries.py\n",
    "import numpy as np\n",
    "class TimeSeries(): \n",
    "    \"\"\"\n",
    "    An class that takes a sequence of integers or floats as input\n",
    "    \n",
    "    Parameters\n",
    "    ----------\n",
    "    data : any finite numeric sequence\n",
    "   \n",
    "    Returns\n",
    "    -------\n",
    "    len(TimeSeries): int\n",
    "        an integer representing the length of the time series\n",
    "    Timeseries[position:int]: number\n",
    "        returns the value of the TimeSeries at position\n",
    "    Timeseries[position:int] = value:int/float\n",
    "        set value of TimeSeries at position to be value\n",
    "    __str__ / __repr__:\n",
    "        when printing TimeSeries, if the total length of the Timeseries is greater than 10\n",
    "        the result shows the first ten elements and its total length, else it prints the \n",
    "        whole Timeseries\n",
    "        \n",
    "    Examples\n",
    "    --------\n",
    "    >>> threes = TimeSeries(range(0,10000,3))\n",
    "    >>> zeroes = TimeSeries(range(0,10,3))\n",
    "    >>> len(threes)\n",
    "    3334\n",
    "    >>> threes[10]\n",
    "    30\n",
    "    >>> threes[10]=10\n",
    "    >>> threes[10]\n",
    "    10\n",
    "    >>> print(zeroes)\n",
    "    [0 3 6 9]\n",
    "    >>> print(threes)\n",
    "    [ 3  6  9 12 15 18 21 24 27...,length=3334]\n",
    "        \n",
    "    Notes\n",
    "    -----\n",
    "    PRE: `data` is numeric\n",
    "    \n",
    "    \"\"\"\n",
    "    def __init__(self,time,values):\n",
    "        self.data=np.array(data)\n",
    "        self.time=np.array(time)\n",
    "        self.len=len(data)\n",
    "    def __len__(self):\n",
    "        return len(self.data)\n",
    "    def __getitem__(self, position):\n",
    "        return self.data[position]\n",
    "    def __setitem__(self,position,value):\n",
    "        self.data[position]=value\n",
    "    def __str__(self):\n",
    "        if self.len>10:\n",
    "            return '[{}...,length={}]'.format(str(self.data[1:10])[1:-1], self.len)\n",
    "        return '{}'.format(self.data)\n",
    "    def __repr__(self):\n",
    "        if self.len>10:\n",
    "            return '[{}...,length={}]'.format(str(self.data[1:10])[1:-1], self.len)\n",
    "        return '{}'.format(self.data)\n",
    "    "
   ]
  },
  {
   "cell_type": "code",
   "execution_count": 2,
   "metadata": {
    "collapsed": false
   },
   "outputs": [
    {
     "name": "stdout",
     "output_type": "stream",
     "text": [
      "Finding tests in NoName\n",
      "Trying:\n",
      "    threes = TimeSeries(range(0,10000,3))\n",
      "Expecting nothing\n",
      "ok\n",
      "Trying:\n",
      "    zeroes = TimeSeries(range(0,10,3))\n",
      "Expecting nothing\n",
      "ok\n",
      "Trying:\n",
      "    len(threes)\n",
      "Expecting:\n",
      "    3334\n",
      "ok\n",
      "Trying:\n",
      "    threes[10]\n",
      "Expecting:\n",
      "    30\n",
      "ok\n",
      "Trying:\n",
      "    threes[10]=10\n",
      "Expecting nothing\n",
      "ok\n",
      "Trying:\n",
      "    threes[10]\n",
      "Expecting:\n",
      "    10\n",
      "ok\n",
      "Trying:\n",
      "    print(zeroes)\n",
      "Expecting:\n",
      "    [0 3 6 9]\n",
      "ok\n",
      "Trying:\n",
      "    print(threes)\n",
      "Expecting:\n",
      "    [ 3  6  9 12 15 18 21 24 27...,length=3334]\n",
      "ok\n"
     ]
    }
   ],
   "source": [
    "from timeseries import TimeSeries\n",
    "from pydoc import doc as pydoc\n",
    "from doctest import run_docstring_examples as dtest\n",
    "dtest(TimeSeries, globals(), verbose=True)"
   ]
  },
  {
   "cell_type": "code",
   "execution_count": null,
   "metadata": {
    "collapsed": true
   },
   "outputs": [],
   "source": []
  }
 ],
 "metadata": {
  "kernelspec": {
   "display_name": "Python 3",
   "language": "python",
   "name": "python3"
  },
  "language_info": {
   "codemirror_mode": {
    "name": "ipython",
    "version": 3
   },
   "file_extension": ".py",
   "mimetype": "text/x-python",
   "name": "python",
   "nbconvert_exporter": "python",
   "pygments_lexer": "ipython3",
   "version": "3.5.1"
  }
 },
 "nbformat": 4,
 "nbformat_minor": 0
}
