{
 "cells": [
  {
   "cell_type": "markdown",
   "metadata": {},
   "source": [
    "## Problem Setting and Algorithm\n",
    "Stochastic Gradient Descent (SGD) is a simple yet very efficient approach to discriminative learning of linear classifiers under convex loss functions such as (linear) Support Vector Machines and Logistic Regression. Even though SGD has been around in the machine learning community for a long time, it has received a considerable amount of attention just recently in the context of large-scale learning.\n",
    "The advantages of Stochastic Gradient Descent are:\n",
    "Efficiency.\n",
    "Ease of implementation (lots of opportunities for code tuning).\n",
    "The disadvantages of Stochastic Gradient Descent include:\n",
    "SGD requires a number of hyperparameters such as the regularization parameter and the number of iterations.\n",
    "SGD is sensitive to feature scaling.\n",
    "\\section{Problem Setup and Basic Algorithm}\n",
    "Given a set of training examples $(x_1,y_1),\\cdots,(x_n,y_n)$ where $x_i\\in R^n$ $y_i\\in{-1,1}$, the goal of stochastic gradient descent is to learn a linear scoring function $f(x)=w^Tx+b$ with model parameters $w\\in R^m$ and intercept $b\\in R$. In order to make predictions, we simply look at the sign of $f(x)$. The regularized training error is \n",
    "\\begin{align*}\n",
    "E(w,b)&=\\frac{1}{n}\\sum_{i=1}^n L(y_i,f(x_i))+\\alpha R(w)\n",
    "\\end{align*}\n",
    "where $L$ is a loss function and R is a penalty term for model complexity; $\\alpha>0$ is a non-negative parameter. \n",
    "\n",
    "Different choices for L entail different classifiers such as\n",
    "Hinge: (soft-margin) Support Vector Machines, Log: Logistic Regression, Least-Squares: Ridge Regression, Epsilon-Insensitive: (soft-margin) Support Vector Regression. All of the above loss functions can be regarded as an upper bound on the misclassification error (Zero-one loss).\n",
    "\n",
    "The choices for regularization terms include: L2 normm $R(w):=\\frac{1}{2}\\sum w_i^2$, L1 norm $R(w):=\\sum |w_i|$, and elastic net $R(w):=\\frac{\\rho}{2}\\sum w_i^2+(1-\\rho)\\sum|w_i|$.\n",
    "At each time step, $w$ and $b$ are updated as follows\n",
    "\\begin{align*}\n",
    "w&\\leftarrow w-\\eta_t(\\alpha\\frac{\\partial R(w)}{\\partial w}+\\frac{\\partial L(w^Tx_i+b,y_i)}{\\partial w})\\\\\n",
    "b&\\leftarrow b-\\eta_t(\\frac{\\partial L(w^Tx_i+b,y_i)}{\\partial b})\n",
    "\\end{align*}\n",
    "The algorithm is guaranteed to converge if $\\eta_t$ satisfies the Robbins-monro conditions\n",
    "\\begin{align*}\n",
    "\\sum_{t=1}^\\infty \\eta_t =\\infty, \\sum_{t=1}^\\infty \\eta_t^2 <\\infty\n",
    "\\end{align*}\n",
    "\n",
    "In this paper we will assume a Hinge loss function, a L2 norm regularization term and \n",
    "\\begin{align*}\n",
    "\\eta_t&=\\frac{1}{\\alpha(t_0+t)}\n",
    "\\end{align*}\n",
    "for Scikit learn $t_0$ is based on a heuristic proposed by Leon Bottou. This is the normal SVM problem. "
   ]
  },
  {
   "cell_type": "markdown",
   "metadata": {},
   "source": [
    "## Implementation in Python"
   ]
  },
  {
   "cell_type": "code",
   "execution_count": 1,
   "metadata": {
    "collapsed": false
   },
   "outputs": [],
   "source": [
    "class Lossfunction:\n",
    "    def loss(self, p, y):\n",
    "        return 0\n",
    "    def dloss(self, p, y):\n",
    "        return 0"
   ]
  },
  {
   "cell_type": "code",
   "execution_count": 2,
   "metadata": {
    "collapsed": true
   },
   "outputs": [],
   "source": [
    "class Hinge(Lossfunction):\n",
    "    def __init__(self, threshold=1):\n",
    "        self.threshold=threshold\n",
    "    def loss(self, p, y):\n",
    "        z=p*y\n",
    "        \n",
    "        if z<=self.threshold:\n",
    "            return (self.threshold-z)\n",
    "        return 0\n",
    "    def _dloss(self, p ,y):\n",
    "        z= p*y\n",
    "        if z<=self.threshold:\n",
    "            return -y\n",
    "        return 0"
   ]
  },
  {
   "cell_type": "code",
   "execution_count": 3,
   "metadata": {
    "collapsed": false,
    "scrolled": true
   },
   "outputs": [],
   "source": [
    "import numpy as np\n",
    "class sgddata:\n",
    "    def __init__(self, X, Y, sample_weights=0,seed=None):\n",
    "        if len(X)!=len(Y):\n",
    "            raise IndexError('X, Y not same length')\n",
    "        self.X = np.array(X)\n",
    "        self.Y = np.array(Y)\n",
    "        self.sample_weights = sample_weights\n",
    "        self.n_samples = self.X.shape[0]\n",
    "        self.n_features = self.X.shape[1]\n",
    "        self.current_index = -1\n",
    "    def __next__(self):\n",
    "        self.current_index += 1\n",
    "        return self.X[self.current_index], self.Y[self.current_index]\n",
    "    def _reset(self):\n",
    "        self.current_index = -1\n",
    "    def shuffle(self ,seed=None):\n",
    "        np.random.seed(seed)\n",
    "        idx = np.random.permutation(self.n_samples)\n",
    "        self.X = self.X[idx]\n",
    "        self.Y = self.Y[idx]\n",
    "    def __str__(self):\n",
    "        return '{},{}'.format(str(self.X), str(self.Y))"
   ]
  },
  {
   "cell_type": "code",
   "execution_count": 4,
   "metadata": {
    "code_folding": [],
    "collapsed": false
   },
   "outputs": [],
   "source": [
    "from time import time\n",
    "def sgd( weights,\n",
    "               intercept,\n",
    "               loss,\n",
    "               penalty_type,\n",
    "               alpha,  \n",
    "               dataset,\n",
    "               n_iter, fit_intercept=True,\n",
    "               verbose=False, shuffle=True, seed=None,\n",
    "               weight_pos=1, weight_neg=1,\n",
    "               eta0=0,\n",
    "               t=1.0,\n",
    "               intercept_decay=1.0):\n",
    "    MAX_DLOSS = 1e12\n",
    "    eta = eta0\n",
    "    l1_ratio = 0.0\n",
    "    sumlosslist = []\n",
    "    n_samples=dataset.n_samples\n",
    "    typw = np.sqrt(1.0 / np.sqrt(alpha))\n",
    "    # computing eta0, the initial learning rate\n",
    "    initial_eta0 = typw / max(1.0, loss.dloss(-typw, 1.0))\n",
    "    # initialize t such that eta at first sample equals eta0\n",
    "    optimal_init = 1.0 / (initial_eta0 * alpha)\n",
    "    t_start = time()\n",
    "    for epoch in range(n_iter):\n",
    "        sumloss=0\n",
    "\n",
    "        if shuffle:\n",
    "            dataset.shuffle(seed)\n",
    "        for i in range(n_samples):\n",
    "            x_current,y_current = next(dataset)\n",
    "            p = np.dot(x_current,weights) + intercept\n",
    "            eta = 1.0 / (alpha * (optimal_init + t - 1))\n",
    "            if y_current > 0.0:\n",
    "                class_weight = weight_pos\n",
    "            else:\n",
    "                class_weight = weight_neg\n",
    "            dloss = loss._dloss(p, y_current)\n",
    "            # clip dloss with large values to avoid numerical\n",
    "            # instabilities\n",
    "            if dloss < -MAX_DLOSS:\n",
    "                dloss = -MAX_DLOSS\n",
    "            elif dloss > MAX_DLOSS:\n",
    "                dloss = MAX_DLOSS\n",
    "            update = -eta * dloss\n",
    "            update *= class_weight\n",
    "            weights *= (max(0, 1.0 - ((1.0 - l1_ratio) * eta * alpha)))\n",
    "            if update != 0.0:\n",
    "                weights += update*x_current\n",
    "                if fit_intercept == 1:\n",
    "                    intercept += update * intercept_decay\n",
    "            dataset._reset()\n",
    "            t += 1\n",
    "        if verbose > 0:\n",
    "            sumloss=0\n",
    "            for i in range(n_samples):\n",
    "                x_current,y_current = next(dataset)\n",
    "                p = np.dot(x_current,weights) + intercept\n",
    "                sumloss+=loss.loss(p,y_current)\n",
    "#             print(\"loss={}\".format(str(sumloss)))\n",
    "            sumlosslist.append(sumloss)\n",
    "            dataset._reset()\n",
    "    print('time = {} second'.format(str(time()-t_start)))\n",
    "    return weights, intercept,sumlosslist"
   ]
  },
  {
   "cell_type": "markdown",
   "metadata": {},
   "source": [
    "## Running with Data"
   ]
  },
  {
   "cell_type": "code",
   "execution_count": 5,
   "metadata": {
    "collapsed": false
   },
   "outputs": [],
   "source": [
    "from numpy import loadtxt\n",
    "train = loadtxt('data_stdev2_train.csv')\n",
    "X = train[:,0:2]\n",
    "Y = train[:,2:3]"
   ]
  },
  {
   "cell_type": "code",
   "execution_count": 6,
   "metadata": {
    "collapsed": false,
    "scrolled": false
   },
   "outputs": [
    {
     "name": "stdout",
     "output_type": "stream",
     "text": [
      "time = 12.75475263595581 second\n"
     ]
    },
    {
     "data": {
      "image/png": "[encoded data removed]",
      "text/plain": [
       "<matplotlib.figure.Figure at 0x2036491e160>"
      ]
     },
     "metadata": {},
     "output_type": "display_data"
    },
    {
     "data": {
      "image/png": "[encoded data removed]",
      "text/plain": [
       "<matplotlib.figure.Figure at 0x2036644ffd0>"
      ]
     },
     "metadata": {},
     "output_type": "display_data"
    }
   ],
   "source": [
    "weight_init=np.array([0.,0.])\n",
    "intercept_init = 0.\n",
    "# X = [[0., 0.], [1., 1.],[2.,3.]]\n",
    "# y = [-1, 1, 1]\n",
    "\n",
    "dataset = sgddata(X,Y)\n",
    "loss=Hinge()\n",
    "n_iter = 1000\n",
    "verbose=True\n",
    "weights,intercept,sumlosslist=sgd(weight_init,intercept_init,loss,'L2',0.01,dataset,n_iter,verbose=verbose)\n",
    "import pylab as pl\n",
    "%matplotlib inline\n",
    "pl.figure(0,figsize=(8, 6))\n",
    "pl.scatter(X[:, 0], X[:, 1], c=(1.-Y), s=50, cmap = pl.cm.cool)\n",
    "x1 = np.linspace(min(X[:, 0])*0.7,max(X[:, 0])*0.7,10)\n",
    "x2 = -(weights[0]*x1+intercept)/weights[1]\n",
    "pl.plot(x1,x2)\n",
    "if verbose:\n",
    "    pl.figure(1,figsize=(8, 6))\n",
    "    pl.plot(range(n_iter),sumlosslist)"
   ]
  },
  {
   "cell_type": "markdown",
   "metadata": {},
   "source": [
    "We see from the top figure that the SGD algorithm arrived a reasonable conclusion. Our bottom plot shows the stochastic nature of the process of convergence. Setting $\\alpha$ to a smaller value increases the step size and leads to higher fluctuations. "
   ]
  },
  {
   "cell_type": "markdown",
   "metadata": {},
   "source": [
    "## Scikit Learn Optimizations\n",
    "Scikit learn optimizes SGD using Cython. The optimizations mostly happen in three areas: 1. The loss function, 2. The data structure that stores the data, 3. The datastructure that stores and updates the weight vector and 4. The implementation of SGD itself. "
   ]
  },
  {
   "cell_type": "markdown",
   "metadata": {},
   "source": [
    "### Optimizations in Loss Function\n",
    "The hinge loss function is implemented in Cython at lines <a href=\"https://github.com/scikit-learn/scikit-learn/blob/master/sklearn/linear_model/sgd_fast.pyx#L138-L167\">138-167</a>, copied below. Besides the __init__ function all other functions are cdef functions. Static typing is used throughout the implementation."
   ]
  },
  {
   "cell_type": "code",
   "execution_count": null,
   "metadata": {
    "collapsed": true
   },
   "outputs": [],
   "source": [
    "cdef class Hinge(Classification):\n",
    "    \"\"\"Hinge loss for binary classification tasks with y in {-1,1}\n",
    "    Parameters\n",
    "    ----------\n",
    "    threshold : float > 0.0\n",
    "        Margin threshold. When threshold=1.0, one gets the loss used by SVM.\n",
    "        When threshold=0.0, one gets the loss used by the Perceptron.\n",
    "    \"\"\"\n",
    "\n",
    "    cdef double threshold\n",
    "\n",
    "    def __init__(self, double threshold=1.0):\n",
    "        self.threshold = threshold\n",
    "\n",
    "    cdef double loss(self, double p, double y) nogil:\n",
    "        cdef double z = p * y\n",
    "        if z <= self.threshold:\n",
    "            return (self.threshold - z)\n",
    "        return 0.0\n",
    "\n",
    "    cdef double _dloss(self, double p, double y) nogil:\n",
    "        cdef double z = p * y\n",
    "        if z <= self.threshold:\n",
    "            return -y\n",
    "        return 0.0\n",
    "\n",
    "    def __reduce__(self):\n",
    "        return Hinge, (self.threshold,)"
   ]
  },
  {
   "cell_type": "markdown",
   "metadata": {},
   "source": [
    "### Optimizations in Data Storage\n",
    "Scikit-learn first convert the data into a ArrayDataset object, which is also implemented in Cython. The code that converts the raw input data to a ArrayDataset is linked <a href=\"https://github.com/scikit-learn/scikit-learn/blob/master/sklearn/linear_model/base.py#L48-L67\">here</a>.  "
   ]
  },
  {
   "cell_type": "markdown",
   "metadata": {},
   "source": [
    "First, we look at how ArrayDataSet is initialized. At lines <a href=\"https://github.com/scikit-learn/scikit-learn/blob/master/sklearn/utils/seq_dataset.pyx#L195-L196\">195-196</a> we see that ArrayDataSet creates memoryvies to the numpy array X and Y and assign their pointers to X_data_ptr and Y_data_ptr.  "
   ]
  },
  {
   "cell_type": "code",
   "execution_count": null,
   "metadata": {
    "collapsed": true
   },
   "outputs": [],
   "source": [
    "self.X_data_ptr = <double *>X.data\n",
    "self.Y_data_ptr = <double *>Y.data"
   ]
  },
  {
   "cell_type": "markdown",
   "metadata": {},
   "source": [
    "The SGD algorithm goes through the dataset samples one-by-one. This is called in the SGD algorithm at lines <a href=\"https://github.com/scikit-learn/scikit-learn/blob/master/sklearn/linear_model/sgd_fast.pyx#L606-L607\">606-607</a>, copied below. We see that this is implemented within the ArrayDataSet object"
   ]
  },
  {
   "cell_type": "code",
   "execution_count": null,
   "metadata": {
    "collapsed": true
   },
   "outputs": [],
   "source": [
    "dataset.next(&x_data_ptr, &x_ind_ptr, &xnnz,\n",
    "                             &y, &sample_weight)"
   ]
  },
  {
   "cell_type": "markdown",
   "metadata": {},
   "source": [
    "We take a closer look at the .next() function. The .next function is implemented at lines <a href=\"https://github.com/scikit-learn/scikit-learn/blob/master/sklearn/utils/seq_dataset.pyx#L20-L46\">20-46</a> of seq_dataset.pyx. The ArrayDataSet object keeps a data index, which .next() calls, advancing the index by one, and then calls the <a href=\"https://github.com/scikit-learn/scikit-learn/blob/master/sklearn/utils/seq_dataset.pyx#L207-L217\">._sample</a> function,"
   ]
  },
  {
   "cell_type": "code",
   "execution_count": null,
   "metadata": {
    "collapsed": true
   },
   "outputs": [],
   "source": [
    "cdef void _sample(self, double **x_data_ptr, int **x_ind_ptr,\n",
    "                      int *nnz, double *y, double *sample_weight,\n",
    "                      int current_index) nogil:\n",
    "        cdef long long sample_idx = self.index_data_ptr[current_index]\n",
    "        cdef long long offset = sample_idx * self.X_stride\n",
    "\n",
    "        y[0] = self.Y_data_ptr[sample_idx]\n",
    "        x_data_ptr[0] = self.X_data_ptr + offset\n",
    "        x_ind_ptr[0] = self.feature_indices_ptr\n",
    "        nnz[0] = self.n_features\n",
    "        sample_weight[0] = self.sample_weight_data[sample_idx]"
   ]
  },
  {
   "cell_type": "markdown",
   "metadata": {},
   "source": [
    "We see that the _sample function takes x_data_ptr and y and make it so they point to the pointer to the start of $X_i$. x_data_ptr and y are then used by the rest of the SGD algorithm to access the current sample. "
   ]
  },
  {
   "cell_type": "markdown",
   "metadata": {},
   "source": [
    "### Optimizations in Weights\n",
    "\n",
    "The weight vector is stored in a WeightVector object at line <a href=\"https://github.com/scikit-learn/scikit-learn/blob/master/sklearn/linear_model/sgd_fast.pyx#L551\">551</a> in sgd_fast.pyx"
   ]
  },
  {
   "cell_type": "code",
   "execution_count": null,
   "metadata": {
    "collapsed": true
   },
   "outputs": [],
   "source": [
    "cdef WeightVector w = WeightVector(weights, average_weights)"
   ]
  },
  {
   "cell_type": "markdown",
   "metadata": {},
   "source": [
    "The WeightVector object is defined <a href=\"https://github.com/scikit-learn/scikit-learn/blob/master/sklearn/utils/weight_vector.pyx\">here</a>. Its mechanism of data storage is similar to ArrayDataset, relevant lines below"
   ]
  },
  {
   "cell_type": "code",
   "execution_count": null,
   "metadata": {
    "collapsed": true
   },
   "outputs": [],
   "source": [
    "cdef double *wdata = <double *>w.data\n",
    "\n",
    "        if w.shape[0] > INT_MAX:\n",
    "            raise ValueError(\"More than %d features not supported; got %d.\"\n",
    "                             % (INT_MAX, w.shape[0]))\n",
    "        self.w = w\n",
    "        self.w_data_ptr = wdata"
   ]
  },
  {
   "cell_type": "markdown",
   "metadata": {},
   "source": [
    "All operations that update the weight vector is done within the WeightVector object. In particular we look at the <a href=\"https://github.com/scikit-learn/scikit-learn/blob/master/sklearn/utils/weight_vector.pyx#L71-L105\"> add function</a>, which scales sample x by constant c and add it to the weight vector. SGD calls it byWe copy the add function below"
   ]
  },
  {
   "cell_type": "code",
   "execution_count": null,
   "metadata": {
    "collapsed": true
   },
   "outputs": [],
   "source": [
    "cdef void add(self, double *x_data_ptr, int *x_ind_ptr, int xnnz,\n",
    "                  double c) nogil:\n",
    "        \"\"\"Scales sample x by constant c and adds it to the weight vector.\n",
    "        This operation updates ``sq_norm``.\n",
    "        Parameters\n",
    "        ----------\n",
    "        x_data_ptr : double*\n",
    "            The array which holds the feature values of ``x``.\n",
    "        x_ind_ptr : np.intc*\n",
    "            The array which holds the feature indices of ``x``.\n",
    "        xnnz : int\n",
    "            The number of non-zero features of ``x``.\n",
    "        c : double\n",
    "            The scaling constant for the example.\n",
    "        \"\"\"\n",
    "        cdef int j\n",
    "        cdef int idx\n",
    "        cdef double val\n",
    "        cdef double innerprod = 0.0\n",
    "        cdef double xsqnorm = 0.0\n",
    "\n",
    "        # the next two lines save a factor of 2!\n",
    "        cdef double wscale = self.wscale\n",
    "        cdef double* w_data_ptr = self.w_data_ptr\n",
    "\n",
    "        for j in range(xnnz):\n",
    "            idx = x_ind_ptr[j]\n",
    "            val = x_data_ptr[j]\n",
    "            innerprod += (w_data_ptr[idx] * val)\n",
    "            xsqnorm += (val * val)\n",
    "            w_data_ptr[idx] += val * (c / wscale)\n",
    "\n",
    "        self.sq_norm += (xsqnorm * c * c) + (2.0 * innerprod * wscale * c)"
   ]
  },
  {
   "cell_type": "markdown",
   "metadata": {},
   "source": [
    "Getting values from $X_i$ is done using x_data_ptr[j], modifying the weight vector is done similarly. Note the \"nogil\" argument, this declares that the function is safe to call without GIL. "
   ]
  },
  {
   "cell_type": "markdown",
   "metadata": {},
   "source": [
    "### Optimizations in SGD algorithm\n",
    "The raw code for the SGD algorithm in scikit-learn is <a href=\"https://github.com/scikit-learn/scikit-learn/blob/master/sklearn/linear_model/sgd_fast.pyx#L529-L700\">here</a>. Since we're assuming OPTIMAL leraning rate, hinge loss and L2 regularization, we copy the relevant parts of the code below"
   ]
  },
  {
   "cell_type": "code",
   "execution_count": null,
   "metadata": {
    "collapsed": true
   },
   "outputs": [],
   "source": [
    "def _plain_sgd(np.ndarray[double, ndim=1, mode='c'] weights,\n",
    "               double intercept,\n",
    "               np.ndarray[double, ndim=1, mode='c'] average_weights,\n",
    "               double average_intercept,\n",
    "               LossFunction loss,\n",
    "               int penalty_type,\n",
    "               double alpha, double C,\n",
    "               double l1_ratio,\n",
    "               SequentialDataset dataset,\n",
    "               int n_iter, int fit_intercept,\n",
    "               int verbose, bint shuffle, np.uint32_t seed,\n",
    "               double weight_pos, double weight_neg,\n",
    "               int learning_rate, double eta0,\n",
    "               double power_t,\n",
    "               double t=1.0,\n",
    "               double intercept_decay=1.0,\n",
    "               int average=0):\n",
    "\n",
    "    # get the data information into easy vars\n",
    "    cdef Py_ssize_t n_samples = dataset.n_samples\n",
    "    cdef Py_ssize_t n_features = weights.shape[0]\n",
    "\n",
    "    cdef WeightVector w = WeightVector(weights, average_weights)\n",
    "    cdef double* w_ptr = &weights[0]\n",
    "    cdef double *x_data_ptr = NULL\n",
    "    cdef int *x_ind_ptr = NULL\n",
    "    cdef double* ps_ptr = NULL\n",
    "\n",
    "    # helper variables\n",
    "    cdef bint infinity = False\n",
    "    cdef int xnnz\n",
    "    cdef double eta = 0.0in\n",
    "    cdef double p = 0.0\n",
    "    cdef double update = 0.0\n",
    "    cdef double sumloss = 0.0\n",
    "    cdef double y = 0.0\n",
    "    cdef double sample_weight\n",
    "    cdef double class_weight = 1.0\n",
    "    cdef unsigned int count = 0\n",
    "    cdef unsigned int epoch = 0\n",
    "    cdef unsigned int i = 0\n",
    "    cdef int is_hinge = isinstance(loss, Hinge)\n",
    "    cdef double optimal_init = 0.0\n",
    "    cdef double dloss = 0.0\n",
    "    cdef double MAX_DLOSS = 1e12\n",
    "\n",
    "    # q vector is only used for L1 regularization\n",
    "    cdef np.ndarray[double, ndim = 1, mode = \"c\"] q = None\n",
    "    cdef double * q_data_ptr = NULL\n",
    "\n",
    "    if penalty_type == L2:\n",
    "        l1_ratio = 0.0\n",
    "\n",
    "\n",
    "    if learning_rate == OPTIMAL:\n",
    "        typw = np.sqrt(1.0 / np.sqrt(alpha))\n",
    "        # computing eta0, the initial learning rate\n",
    "        initial_eta0 = typw / max(1.0, loss.dloss(-typw, 1.0))\n",
    "        # initialize t such that eta at first sample equals eta0a\n",
    "        optimal_init = 1.0 / (initial_eta0 * alpha)\n",
    "\n",
    "    t_start = time()\n",
    "    with nogil:\n",
    "        for epoch in range(n_iter):\n",
    "            if verbose > 0:\n",
    "                with gil:\n",
    "                    print(\"-- Epoch %d\" % (epoch + 1))\n",
    "            if shuffle:\n",
    "                dataset.shuffle(seed)\n",
    "            for i in range(n_samples):\n",
    "                dataset.next(&x_data_ptr, &x_ind_ptr, &xnnz,\n",
    "                             &y, &sample_weight)\n",
    "\n",
    "                p = w.dot(x_data_ptr, x_ind_ptr, xnnz) + intercept\n",
    "                if learning_rate == OPTIMAL:\n",
    "                    eta = 1.0 / (alpha * (optimal_init + t - 1))\n",
    "\n",
    "                if verbose > 0:\n",
    "                    sumloss += loss.loss(p, y)\n",
    "\n",
    "                if y > 0.0:\n",
    "                    class_weight = weight_pos\n",
    "                else:\n",
    "                    class_weight = weight_neg\n",
    "\n",
    "                \n",
    "                dloss = loss._dloss(p, y)\n",
    "                # clip dloss with large values to avoid numerical\n",
    "                # instabilities\n",
    "                if dloss < -MAX_DLOSS:\n",
    "                    dloss = -MAX_DLOSS\n",
    "                elif dloss > MAX_DLOSS:\n",
    "                    dloss = MAX_DLOSS\n",
    "                    \n",
    "                update = -eta * dloss\n",
    "\n",
    "                update *= class_weight * sample_weight\n",
    "\n",
    "                if penalty_type >= L2:\n",
    "                    # do not scale to negative values when eta or alpha are too\n",
    "                    # big: instead set the weights to zero\n",
    "                    w.scale(max(0, 1.0 - ((1.0 - l1_ratio) * eta * alpha)))\n",
    "                if update != 0.0:\n",
    "                    w.add(x_data_ptr, x_ind_ptr, xnnz, update)\n",
    "                    if fit_intercept == 1:\n",
    "                        intercept += update * intercept_decay\n",
    "\n",
    "\n",
    "                t += 1\n",
    "                count += 1\n",
    "\n",
    "            # report epoch information\n",
    "            if verbose > 0:\n",
    "                with gil:\n",
    "                    print(\"Norm: %.2f, NNZs: %d, \"\n",
    "                          \"Bias: %.6f, T: %d, Avg. loss: %.6f\"\n",
    "                          % (w.norm(), weights.nonzero()[0].shape[0],\n",
    "                             intercept, count, sumloss / count))\n",
    "                    print(\"Total training time: %.2f seconds.\"\n",
    "                          % (time() - t_start))\n",
    "\n",
    "            # floating-point under-/overflow check.\n",
    "            if (not skl_isfinite(intercept)\n",
    "                or any_nonfinite(<double *>weights.data, n_features)):\n",
    "                infinity = True\n",
    "                break\n",
    "\n",
    "    if infinity:\n",
    "        raise ValueError((\"Floating-point under-/overflow occurred at epoch\"\n",
    "                          \" #%d. Scaling input data with StandardScaler or\"\n",
    "                          \" MinMaxScaler might help.\") % (epoch + 1))\n",
    "\n",
    "    w.reset_wscale()\n",
    "\n",
    "    return weights, intercept, average_weights, average_intercept\n"
   ]
  },
  {
   "cell_type": "markdown",
   "metadata": {},
   "source": [
    "Besides the performance benefits from ArrayDataSet and WeightVector, the Cython implementation has a few properties that further speeds it up. Nearly all variables are defined using cdef and static typing. The main part of the algorithm is done under with nogil. "
   ]
  }
 ],
 "metadata": {
  "kernelspec": {
   "display_name": "Python 3",
   "language": "python",
   "name": "python3"
  },
  "language_info": {
   "codemirror_mode": {
    "name": "ipython",
    "version": 3
   },
   "file_extension": ".py",
   "mimetype": "text/x-python",
   "name": "python",
   "nbconvert_exporter": "python",
   "pygments_lexer": "ipython3",
   "version": "3.5.1"
  }
 },
 "nbformat": 4,
 "nbformat_minor": 0
}
