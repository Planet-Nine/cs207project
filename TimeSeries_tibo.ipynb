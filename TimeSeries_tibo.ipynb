{
 "cells": [
  {
   "cell_type": "code",
   "execution_count": 58,
   "metadata": {
    "collapsed": false
   },
   "outputs": [],
   "source": [
    "\n",
    "import itertools\n",
    "class TimeSeries(object):\n",
    "    \n",
    "    \"\"\"\n",
    "    An class that takes a sequence of integers or floats as input\n",
    "    \n",
    "    Parameters\n",
    "    ----------\n",
    "    data : any finite numeric sequence\n",
    "   \n",
    "    Returns\n",
    "    -------\n",
    "    len(TimeSeries): int\n",
    "        an integer representing the length of the time series\n",
    "    Timeseries[position:int]: number\n",
    "        returns the value of the TimeSeries at position\n",
    "    Timeseries[position:int] = value:int/float\n",
    "        set value of TimeSeries at position to be value\n",
    "    __str__ / __repr__:\n",
    "        when printing TimeSeries, if the total length of the Timeseries is greater than 10\n",
    "        the result shows the first ten elements and its total length, else it prints the \n",
    "        whole Timeseries\n",
    "        \n",
    "    Examples\n",
    "    --------\n",
    "    >>> threes = TimeSeries(range(0,10000,3))\n",
    "    >>> zeroes=TimeSeries(range(0,10,3))\n",
    "    >>> print(zeroes)\n",
    "    [0, 3, 6, 9]\n",
    "    >>> print(threes)\n",
    "    [3, 6, 9, 12, 15, 18, 21, 24, 27...,length=3334]\n",
    "        \n",
    "    Notes\n",
    "    -----\n",
    "    PRE: `data` is numeric\n",
    "    \n",
    "    \"\"\"    \n",
    "    \n",
    "    def __init__(self, data):\n",
    "        self._data = list(data)\n",
    "        \n",
    "    def __len__(self):\n",
    "        return len(self._data)\n",
    "    \n",
    "    def __getitem__(self,position):\n",
    "        if position >= 0 or position<= self.__len__:\n",
    "            return self._data[position]\n",
    "        else:\n",
    "            raise('Cannot get the item because out of bounds')\n",
    "    \n",
    "    def __setitem__(self, position, value):\n",
    "        return self._data[position] == value\n",
    "    \n",
    "    # exhaustive description of the instance\n",
    "    def __repr__(self):\n",
    "        class_name = type(self).__name__\n",
    "#         if len(self._data) < 100:\n",
    "#             return '{}({})'.format(class_name, self._data) \n",
    "#         else :\n",
    "#             return '{}({} ... len(TimeSeries) = {})'.format(class_name, self._data[0:20], len(self._data)) \n",
    "        if len(self._data)>10:\n",
    "            return '[{}...,length={}]'.format(str(self._data[1:10])[1:-1], len(self._data))\n",
    "        return '{}'.format(self._data)       \n",
    "    \n",
    "    # user friendly print\n",
    "    def __str__(self):\n",
    "#         if len(self._data) < 100:\n",
    "#             return '{}'.format(self._data)\n",
    "#         else: \n",
    "#             return '{} ... len(TimeSeries) = {}'.format(self._data[0:20],len(self._data))\n",
    "        if len(self._data)>10:\n",
    "            return '[{}...,length={}]'.format(str(self._data[1:10])[1:-1], len(self._data))\n",
    "        return '{}'.format(self._data)\n",
    "        \n",
    "        "
   ]
  },
  {
   "cell_type": "code",
   "execution_count": 59,
   "metadata": {
    "collapsed": false
   },
   "outputs": [
    {
     "name": "stdout",
     "output_type": "stream",
     "text": [
      "[3, 6, 9, 12, 15, 18, 21, 24, 27...,length=334]\n"
     ]
    }
   ],
   "source": [
    "# we test the class\n",
    "cls = TimeSeries(range(0,1000,3))\n",
    "print(cls)"
   ]
  },
  {
   "cell_type": "code",
   "execution_count": 60,
   "metadata": {
    "collapsed": false
   },
   "outputs": [
    {
     "name": "stdout",
     "output_type": "stream",
     "text": [
      "sum 233168\n"
     ]
    }
   ],
   "source": [
    "threes = TimeSeries(range(0,1000,3))\n",
    "fives = TimeSeries(range(0,1000,5))\n",
    "\n",
    "s = 0\n",
    "for i in range(0,1000):\n",
    "  if i in threes or i in fives:\n",
    "    s += i\n",
    "\n",
    "print(\"sum\",s)"
   ]
  },
  {
   "cell_type": "code",
   "execution_count": 61,
   "metadata": {
    "collapsed": false
   },
   "outputs": [
    {
     "name": "stdout",
     "output_type": "stream",
     "text": [
      "[1, 2, 3, 4, 5, 6, 7, 8, 9...,length=1000000]\n"
     ]
    }
   ],
   "source": [
    "print( TimeSeries(range(0,1000000)) )"
   ]
  },
  {
   "cell_type": "code",
   "execution_count": 62,
   "metadata": {
    "collapsed": true
   },
   "outputs": [],
   "source": [
    "# implement a new class that inherits from the TimeSeries class\n",
    "import numpy as np\n",
    "class ArrayTimeSeries(TimeSeries):\n",
    "    \"\"\"\n",
    "    An class that takes a sequence of integers or floats as input\n",
    "    \n",
    "    Parameters\n",
    "    ----------\n",
    "    data : any finite numeric sequence\n",
    "   \n",
    "    Returns\n",
    "    -------\n",
    "    len(TimeSeries): int\n",
    "        an integer representing the length of the time series\n",
    "    Timeseries[position:int]: number\n",
    "        returns the value of the TimeSeries at position\n",
    "    Timeseries[position:int] = value:int/float\n",
    "        set value of TimeSeries at position to be value\n",
    "    __str__ / __repr__:\n",
    "        when printing TimeSeries, if the total length of the Timeseries is greater than 10\n",
    "        the result shows the first ten elements and its total length, else it prints the \n",
    "        whole Timeseries\n",
    "        \n",
    "    Examples\n",
    "    --------\n",
    "    >>> threes = TimeSeries(range(0,10000,3))\n",
    "    >>> zeroes=TimeSeries(range(0,10,3))\n",
    "    >>> print(zeroes)\n",
    "    [0, 3, 6, 9]\n",
    "    >>> print(threes)\n",
    "    [3, 6, 9, 12, 15, 18, 21, 24, 27...,length=3334]\n",
    "        \n",
    "    Notes\n",
    "    -----\n",
    "    PRE: `data` is numeric\n",
    "    \n",
    "    \"\"\"     \n",
    "    \n",
    "    def __init__(self, data):\n",
    "        self._data = np.array(data)\n",
    "        "
   ]
  },
  {
   "cell_type": "code",
   "execution_count": 63,
   "metadata": {
    "collapsed": false
   },
   "outputs": [],
   "source": [
    "cls2 = ArrayTimeSeries(range(0,1000,3))\n",
    "# no inheritance of the attributes\n",
    "# cls2.__doc__"
   ]
  },
  {
   "cell_type": "code",
   "execution_count": 64,
   "metadata": {
    "collapsed": false
   },
   "outputs": [
    {
     "data": {
      "text/plain": [
       "'\\n    An class that takes a sequence of integers or floats as input\\n    \\n    Parameters\\n    ----------\\n    data : any finite numeric sequence\\n   \\n    Returns\\n    -------\\n    len(TimeSeries): int\\n        an integer representing the length of the time series\\n    Timeseries[position:int]: number\\n        returns the value of the TimeSeries at position\\n    Timeseries[position:int] = value:int/float\\n        set value of TimeSeries at position to be value\\n    __str__ / __repr__:\\n        when printing TimeSeries, if the total length of the Timeseries is greater than 10\\n        the result shows the first ten elements and its total length, else it prints the \\n        whole Timeseries\\n        \\n    Examples\\n    --------\\n    >>> threes = TimeSeries(range(0,10000,3))\\n    >>> zeroes=TimeSeries(range(0,10,3))\\n    >>> print(zeroes)\\n    [0, 3, 6, 9]\\n    >>> print(threes)\\n    [3, 6, 9, 12, 15, 18, 21, 24, 27...,length=3334]\\n        \\n    Notes\\n    -----\\n    PRE: `data` is numeric\\n    \\n    '"
      ]
     },
     "execution_count": 64,
     "metadata": {},
     "output_type": "execute_result"
    }
   ],
   "source": [
    "cls.__doc__"
   ]
  },
  {
   "cell_type": "code",
   "execution_count": 65,
   "metadata": {
    "collapsed": false
   },
   "outputs": [
    {
     "name": "stdout",
     "output_type": "stream",
     "text": [
      "Finding tests in NoName\n",
      "Trying:\n",
      "    threes = TimeSeries(range(0,10000,3))\n",
      "Expecting nothing\n",
      "ok\n",
      "Trying:\n",
      "    zeroes=TimeSeries(range(0,10,3))\n",
      "Expecting nothing\n",
      "ok\n",
      "Trying:\n",
      "    print(zeroes)\n",
      "Expecting:\n",
      "    [0, 3, 6, 9]\n",
      "ok\n",
      "Trying:\n",
      "    print(threes)\n",
      "Expecting:\n",
      "    [3, 6, 9, 12, 15, 18, 21, 24, 27...,length=3334]\n",
      "ok\n"
     ]
    }
   ],
   "source": [
    "from doctest import run_docstring_examples as dtest\n",
    "dtest(cls2, globals(), verbose = True)"
   ]
  },
  {
   "cell_type": "code",
   "execution_count": null,
   "metadata": {
    "collapsed": true
   },
   "outputs": [],
   "source": []
  },
  {
   "cell_type": "code",
   "execution_count": null,
   "metadata": {
    "collapsed": true
   },
   "outputs": [],
   "source": []
  }
 ],
 "metadata": {
  "kernelspec": {
   "display_name": "Python 3",
   "language": "python",
   "name": "python3"
  },
  "language_info": {
   "codemirror_mode": {
    "name": "ipython",
    "version": 3
   },
   "file_extension": ".py",
   "mimetype": "text/x-python",
   "name": "python",
   "nbconvert_exporter": "python",
   "pygments_lexer": "ipython3",
   "version": "3.5.1"
  }
 },
 "nbformat": 4,
 "nbformat_minor": 0
}
