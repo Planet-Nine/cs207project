{
 "cells": [
  {
   "cell_type": "code",
   "execution_count": 31,
   "metadata": {
    "collapsed": false
   },
   "outputs": [],
   "source": [
    "\n",
    "import itertools\n",
    "class TimeSeries(object):\n",
    "    \n",
    "    def __init__(self, data):\n",
    "        self._data = list(data)\n",
    "        \n",
    "    def __len__(self):\n",
    "        return len(self._data)\n",
    "    \n",
    "    def __getitem__(self,position):\n",
    "        if position >= 0 or position<= self.__len__:\n",
    "            return self._data[position]\n",
    "        else:\n",
    "            raise('Cannot get the item because out of bounds')\n",
    "    \n",
    "    def __setitem__(self, position, value):\n",
    "        return self._data[position] == value\n",
    "    \n",
    "    # exhaustive description of the instance\n",
    "    def __repr__(self):\n",
    "        class_name = type(self).__name__\n",
    "        if len(self._data) < 100:\n",
    "            return '{}({})'.format(class_name, self._data) \n",
    "        else :\n",
    "            return '{}({} ... len(TimeSeries) = {})'.format(class_name, self._data[0:20], len(self._data)) \n",
    "    \n",
    "    # user friendly print\n",
    "    def __str__(self):\n",
    "        if len(self._data) < 100:\n",
    "            return '{}'.format(self._data)\n",
    "        else: \n",
    "            return '{} ... len(TimeSeries) = {}'.format(self._data[0:20],len(self._data))\n",
    "        \n",
    "        "
   ]
  },
  {
   "cell_type": "code",
   "execution_count": 22,
   "metadata": {
    "collapsed": false
   },
   "outputs": [
    {
     "name": "stdout",
     "output_type": "stream",
     "text": [
      "TimeSeries([0, 3, 6, 9, 12, 15, 18, 21, 24, 27, 30, 33, 36, 39, 42, 45, 48, 51, 54, 57] ... len(TimeSeries) = 334)\n"
     ]
    }
   ],
   "source": [
    "# we test the class\n",
    "cls = TimeSeries(range(0,1000,3))\n",
    "print(cls)"
   ]
  },
  {
   "cell_type": "code",
   "execution_count": 24,
   "metadata": {
    "collapsed": false
   },
   "outputs": [
    {
     "name": "stdout",
     "output_type": "stream",
     "text": [
      "TimeSeries([0, 1, 2, 3, 4, 5, 6, 7, 8, 9])\n"
     ]
    }
   ],
   "source": [
    "print( TimeSeries(range(0,10)) )"
   ]
  },
  {
   "cell_type": "code",
   "execution_count": 28,
   "metadata": {
    "collapsed": false
   },
   "outputs": [
    {
     "data": {
      "text/plain": [
       "TimeSeries([1, 2, 3])"
      ]
     },
     "execution_count": 28,
     "metadata": {},
     "output_type": "execute_result"
    }
   ],
   "source": [
    "TimeSeries([1,2,3])"
   ]
  },
  {
   "cell_type": "code",
   "execution_count": 32,
   "metadata": {
    "collapsed": false
   },
   "outputs": [
    {
     "name": "stdout",
     "output_type": "stream",
     "text": [
      "[0, 1, 2, 3, 4, 5, 6, 7, 8, 9, 10, 11, 12, 13, 14, 15, 16, 17, 18, 19] ... len(TimeSeries) = 1000\n"
     ]
    }
   ],
   "source": [
    "print(TimeSeries(range(1000)))"
   ]
  },
  {
   "cell_type": "code",
   "execution_count": 33,
   "metadata": {
    "collapsed": false
   },
   "outputs": [
    {
     "name": "stdout",
     "output_type": "stream",
     "text": [
      "sum 233168\n"
     ]
    }
   ],
   "source": [
    "threes = TimeSeries(range(0,1000,3))\n",
    "fives = TimeSeries(range(0,1000,5))\n",
    "\n",
    "s = 0\n",
    "for i in range(0,1000):\n",
    "  if i in threes or i in fives:\n",
    "    s += i\n",
    "\n",
    "print(\"sum\",s)"
   ]
  },
  {
   "cell_type": "code",
   "execution_count": 34,
   "metadata": {
    "collapsed": false
   },
   "outputs": [
    {
     "name": "stdout",
     "output_type": "stream",
     "text": [
      "[0, 1, 2, 3, 4, 5, 6, 7, 8, 9, 10, 11, 12, 13, 14, 15, 16, 17, 18, 19] ... len(TimeSeries) = 1000000\n"
     ]
    }
   ],
   "source": [
    "print( TimeSeries(range(0,1000000)) )"
   ]
  },
  {
   "cell_type": "code",
   "execution_count": null,
   "metadata": {
    "collapsed": true
   },
   "outputs": [],
   "source": []
  }
 ],
 "metadata": {
  "kernelspec": {
   "display_name": "Python 3",
   "language": "python",
   "name": "python3"
  },
  "language_info": {
   "codemirror_mode": {
    "name": "ipython",
    "version": 3
   },
   "file_extension": ".py",
   "mimetype": "text/x-python",
   "name": "python",
   "nbconvert_exporter": "python",
   "pygments_lexer": "ipython3",
   "version": "3.5.1"
  }
 },
 "nbformat": 4,
 "nbformat_minor": 0
}
